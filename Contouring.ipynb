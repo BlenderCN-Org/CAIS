{
 "cells": [
  {
   "cell_type": "code",
   "execution_count": 4,
   "metadata": {
    "collapsed": true,
    "scrolled": false
   },
   "outputs": [],
   "source": [
    "import cv2\n",
    "import numpy as np\n",
    "from matplotlib import pyplot as plt\n",
    "from multiprocessing.pool import ThreadPool\n",
    "import time\n"
   ]
  },
  {
   "cell_type": "code",
   "execution_count": 37,
   "metadata": {
    "collapsed": true,
    "scrolled": false
   },
   "outputs": [],
   "source": [
    "def cnt_from_img(img, num, centers=False):\n",
    "    # Load the image\n",
    "    im = cv2.imread(img)\n",
    "    # Crop the 4096x2160 image to \n",
    "    im = im[200:700, 1698:2398]\n",
    "    # Convert to greyscale\n",
    "    imgray = cv2.cvtColor(im,cv2.COLOR_BGR2GRAY)\n",
    "    # Denoise\n",
    "    denoise = cv2.fastNlMeansDenoising(imgray, templateWindowSize = 7, searchWindowSize=21, h=12)\n",
    "    # Blur\n",
    "    #blur = cv2.bilateralFilter(denoise,9,500,250)\n",
    "    blur = cv2.GaussianBlur(denoise,(5,5),0)\n",
    "    # Thresholding\n",
    "    #thresh = cv2.adaptiveThreshold(blur,255,cv2.ADAPTIVE_THRESH_GAUSSIAN_C, cv2.THRESH_BINARY,19,2)#+cv2.THRESH_OTSU)\n",
    "    thresh = cv2.adaptiveThreshold(blur, 255,cv2.ADAPTIVE_THRESH_GAUSSIAN_C,cv2.THRESH_BINARY,19,2)\n",
    "    # Detect edges\n",
    "    edges = cv2.Canny(thresh, 100,100)\n",
    "    #edge_name = \"data/BP02_midsag/edges/e_%i.bmp\"%num\n",
    "    #cv2.imwrite(edge_name, thresh)\n",
    "    # Get contours\n",
    "    im2, contours, hierarchy = cv2.findContours(edges,cv2.RETR_TREE,cv2.CHAIN_APPROX_SIMPLE)\n",
    "    # Sort contours by area\n",
    "    contours = sorted(contours, key = cv2.contourArea, reverse = True)\n",
    "    # Calculate moments and areas\n",
    "    moments = []\n",
    "    areas = []\n",
    "    for c in contours:\n",
    "        # Calculate the centroid of the contour\n",
    "        M = cv2.moments(c)\n",
    "        if M[\"m00\"] != 0:\n",
    "            cX = int(M[\"m10\"] / M[\"m00\"])\n",
    "            cY = int(M[\"m01\"] / M[\"m00\"])\n",
    "            moments.append(M)\n",
    "        if centers:\n",
    "            cv2.circle(im, (cX, cY), 2, (255, 0, 0), -1)\n",
    "        # Calculate the area of the contour\n",
    "        A = cv2.contourArea(c)\n",
    "        areas.append(A)\n",
    "        \n",
    " \n",
    "    # Display\n",
    "    cv2.drawContours(im, contours, -1, (0, 255, 0), 1)\n",
    "    output_name = 'data/BP02_midsag/contours/cnt_%i.bmp' % num\n",
    "    cv2.imwrite(output_name, im)\n"
   ]
  },
  {
   "cell_type": "code",
   "execution_count": 19,
   "metadata": {
    "collapsed": true
   },
   "outputs": [],
   "source": [
    "path = 'data/BP02_midsag/BMP/'\n",
    "out_path = 'data/BP02_midsag/cnn/'"
   ]
  },
  {
   "cell_type": "code",
   "execution_count": 36,
   "metadata": {},
   "outputs": [
    {
     "name": "stdout",
     "output_type": "stream",
     "text": [
      "12.286837577819824\n"
     ]
    }
   ],
   "source": [
    "p = ThreadPool(8)\n",
    "images = [(path + 'BMP%05d.bmp' % i, i) for i in range(30,119)]\n",
    "start = time.time()\n",
    "r = p.starmap(cnt_from_img, images)\n",
    "end = time.time()\n",
    "print(end-start)"
   ]
  },
  {
   "cell_type": "code",
   "execution_count": 5,
   "metadata": {
    "collapsed": true,
    "scrolled": false
   },
   "outputs": [],
   "source": [
    "p = ThreadPool(8)\n",
    "def bulk_crop(img):\n",
    "    # Load the image\n",
    "    im = cv2.imread(img)\n",
    "    # Crop the 4096x2160 image to \n",
    "    im = im[210:710, 1798:2298]\n",
    "    # Convert to greyscale\n",
    "    imgray = cv2.cvtColor(im,cv2.COLOR_BGR2GRAY)\n",
    "    output_name = 'data/BP02_midsag/crop/cr_%i.bmp' % num\n",
    "    cv2.imwrite(output_name, imgray)\n",
    "    \n",
    "    \n",
    "def stddev_for_pix(x,y,std_arr,images):\n",
    "    std_arr[x,y] = np.std(images[:,x,y]\n",
    "                        )\n",
    "    \n",
    "def pix_int_stddev(image_stack):\n",
    "    if not image_stack:\n",
    "        print(\"image_stack is empty\")\n",
    "        return\n",
    "    \n",
    "    #open images\n",
    "    images = []\n",
    "    for image in image_stack:\n",
    "        im = cv2.imread(image,0)\n",
    "        #grey = cv2.cvtColor(im,cv2.COLOR_BGR2GRAY)\n",
    "        images.append(im)\n",
    "        \n",
    "    images = np.asarray(images)\n",
    "    l, w = np.shape(images[0])\n",
    "    std_dev = np.zeros(np.shape(images[0]))\n",
    "    #for x in range(0, l):\n",
    "    #    for y in range(0,w):\n",
    "    #        std_dev[x, y] = np.std(images[:,x,y])\n",
    "            \n",
    "    args = [(x,y,std_dev,images) for x in range(0,l) for y in range(0,w)]\n",
    "    _ = p.starmap(stddev_for_pix, args)\n",
    "    return std_dev"
   ]
  },
  {
   "cell_type": "code",
   "execution_count": 6,
   "metadata": {
    "scrolled": false
   },
   "outputs": [
    {
     "ename": "ValueError",
     "evalue": "not enough values to unpack (expected 2, got 0)",
     "traceback": [
      "\u001b[0;31m---------------------------------------------------------------------------\u001b[0m",
      "\u001b[0;31mValueError\u001b[0m                                Traceback (most recent call last)",
      "\u001b[0;32m<ipython-input-6-bf00dfa5da5f>\u001b[0m in \u001b[0;36m<module>\u001b[0;34m()\u001b[0m\n\u001b[1;32m     13\u001b[0m     \u001b[0mend_idx\u001b[0m \u001b[0;34m=\u001b[0m \u001b[0mstart_idx\u001b[0m \u001b[0;34m+\u001b[0m \u001b[0mstddev_gran\u001b[0m\u001b[0;34m\u001b[0m\u001b[0m\n\u001b[1;32m     14\u001b[0m     \u001b[0mimages\u001b[0m \u001b[0;34m=\u001b[0m \u001b[0;34m[\u001b[0m\u001b[0mpath\u001b[0m \u001b[0;34m+\u001b[0m \u001b[0;34m'cr_%i.bmp'\u001b[0m \u001b[0;34m%\u001b[0m \u001b[0mi\u001b[0m \u001b[0;32mfor\u001b[0m \u001b[0mi\u001b[0m \u001b[0;32min\u001b[0m \u001b[0mrange\u001b[0m\u001b[0;34m(\u001b[0m\u001b[0mstart_idx\u001b[0m\u001b[0;34m,\u001b[0m\u001b[0mend_idx\u001b[0m\u001b[0;34m)\u001b[0m\u001b[0;34m]\u001b[0m\u001b[0;34m\u001b[0m\u001b[0m\n\u001b[0;32m---> 15\u001b[0;31m     \u001b[0mim\u001b[0m \u001b[0;34m=\u001b[0m \u001b[0mpix_int_stddev\u001b[0m\u001b[0;34m(\u001b[0m\u001b[0mimages\u001b[0m\u001b[0;34m)\u001b[0m\u001b[0;34m\u001b[0m\u001b[0m\n\u001b[0m\u001b[1;32m     16\u001b[0m \u001b[0;34m\u001b[0m\u001b[0m\n\u001b[1;32m     17\u001b[0m     \u001b[0moutput_name\u001b[0m \u001b[0;34m=\u001b[0m \u001b[0;34m'data/BP02_midsag/std_dev/std_dev_%i.jpg'\u001b[0m \u001b[0;34m%\u001b[0m \u001b[0mi\u001b[0m\u001b[0;34m\u001b[0m\u001b[0m\n",
      "\u001b[0;32m<ipython-input-5-5740b105df0b>\u001b[0m in \u001b[0;36mpix_int_stddev\u001b[0;34m(image_stack)\u001b[0m\n\u001b[1;32m     28\u001b[0m \u001b[0;34m\u001b[0m\u001b[0m\n\u001b[1;32m     29\u001b[0m     \u001b[0mimages\u001b[0m \u001b[0;34m=\u001b[0m \u001b[0mnp\u001b[0m\u001b[0;34m.\u001b[0m\u001b[0masarray\u001b[0m\u001b[0;34m(\u001b[0m\u001b[0mimages\u001b[0m\u001b[0;34m)\u001b[0m\u001b[0;34m\u001b[0m\u001b[0m\n\u001b[0;32m---> 30\u001b[0;31m     \u001b[0ml\u001b[0m\u001b[0;34m,\u001b[0m \u001b[0mw\u001b[0m \u001b[0;34m=\u001b[0m \u001b[0mnp\u001b[0m\u001b[0;34m.\u001b[0m\u001b[0mshape\u001b[0m\u001b[0;34m(\u001b[0m\u001b[0mimages\u001b[0m\u001b[0;34m[\u001b[0m\u001b[0;36m0\u001b[0m\u001b[0;34m]\u001b[0m\u001b[0;34m)\u001b[0m\u001b[0;34m\u001b[0m\u001b[0m\n\u001b[0m\u001b[1;32m     31\u001b[0m     \u001b[0mstd_dev\u001b[0m \u001b[0;34m=\u001b[0m \u001b[0mnp\u001b[0m\u001b[0;34m.\u001b[0m\u001b[0mzeros\u001b[0m\u001b[0;34m(\u001b[0m\u001b[0mnp\u001b[0m\u001b[0;34m.\u001b[0m\u001b[0mshape\u001b[0m\u001b[0;34m(\u001b[0m\u001b[0mimages\u001b[0m\u001b[0;34m[\u001b[0m\u001b[0;36m0\u001b[0m\u001b[0;34m]\u001b[0m\u001b[0;34m)\u001b[0m\u001b[0;34m)\u001b[0m\u001b[0;34m\u001b[0m\u001b[0m\n\u001b[1;32m     32\u001b[0m     \u001b[0;31m#for x in range(0, l):\u001b[0m\u001b[0;34m\u001b[0m\u001b[0;34m\u001b[0m\u001b[0m\n",
      "\u001b[0;31mValueError\u001b[0m: not enough values to unpack (expected 2, got 0)"
     ],
     "output_type": "error"
    }
   ],
   "source": [
    "#path = 'data/BP02_midsag/BMP/'\n",
    "#for i in range(30,121):\n",
    "#    image = path + 'BMP%05d.bmp' % i\n",
    "#    crop(image, i)\n",
    "path = 'data/BP02_midsag/crop/'\n",
    "start_image = 30\n",
    "end_image = 120\n",
    "img_range = end_image-start_image\n",
    "stddev_gran = 2 # use 5 images to compute stddev images\n",
    "num_steps = int(img_range/stddev_gran)\n",
    "for i in range(0,num_steps):\n",
    "    start_idx = i*stddev_gran + start_image\n",
    "    end_idx = start_idx + stddev_gran\n",
    "    images = [path + 'cr_%i.bmp' % i for i in range(start_idx,end_idx)]\n",
    "    im = pix_int_stddev(images)\n",
    "\n",
    "    output_name = 'data/BP02_midsag/std_dev/std_dev_%i.jpg' % i\n",
    "    plt.pcolormesh(im)\n",
    "    plt.savefig(output_name)\n",
    "    plt.clf()"
   ]
  },
  {
   "cell_type": "code",
   "execution_count": null,
   "metadata": {
    "collapsed": true
   },
   "outputs": [],
   "source": []
  },
  {
   "cell_type": "code",
   "execution_count": null,
   "metadata": {
    "collapsed": true
   },
   "outputs": [],
   "source": []
  }
 ],
 "metadata": {
  "kernelspec": {
   "display_name": "Python 3",
   "language": "python",
   "name": "python3"
  },
  "language_info": {
   "codemirror_mode": {
    "name": "ipython",
    "version": 3
   },
   "file_extension": ".py",
   "mimetype": "text/x-python",
   "name": "python",
   "nbconvert_exporter": "python",
   "pygments_lexer": "ipython3",
   "version": "3.6.3"
  }
 },
 "nbformat": 4,
 "nbformat_minor": 2
}
